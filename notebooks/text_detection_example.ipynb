{
 "cells": [
  {
   "cell_type": "code",
   "execution_count": 1,
   "id": "thousand-bullet",
   "metadata": {},
   "outputs": [
    {
     "name": "stdout",
     "output_type": "stream",
     "text": [
      "Requirement already satisfied: python-doctr in /home/laptopmindee/venv3.8/lib/python3.8/site-packages (0.3.0)\n",
      "Requirement already satisfied: PyMuPDF<1.18.11,>=1.16.0 in /home/laptopmindee/venv3.8/lib/python3.8/site-packages (from python-doctr) (1.18.8)\n",
      "Requirement already satisfied: weasyprint>=52.2 in /home/laptopmindee/venv3.8/lib/python3.8/site-packages (from python-doctr) (52.5)\n",
      "Requirement already satisfied: Pillow>=8.0.0 in /home/laptopmindee/venv3.8/lib/python3.8/site-packages (from python-doctr) (8.2.0)\n",
      "Requirement already satisfied: opencv-python>=4.2 in /home/laptopmindee/venv3.8/lib/python3.8/site-packages (from python-doctr) (4.5.1.48)\n",
      "Requirement already satisfied: tqdm>=4.30.0 in /home/laptopmindee/venv3.8/lib/python3.8/site-packages (from python-doctr) (4.55.2)\n",
      "Requirement already satisfied: shapely>=1.6.0 in /home/laptopmindee/venv3.8/lib/python3.8/site-packages (from python-doctr) (1.7.1)\n",
      "Requirement already satisfied: numpy>=1.16.0 in /home/laptopmindee/venv3.8/lib/python3.8/site-packages (from python-doctr) (1.19.2)\n",
      "Requirement already satisfied: scipy>=1.4.0 in /home/laptopmindee/venv3.8/lib/python3.8/site-packages (from python-doctr) (1.6.1)\n",
      "Requirement already satisfied: mplcursors>=0.3 in /home/laptopmindee/venv3.8/lib/python3.8/site-packages (from python-doctr) (0.4)\n",
      "Requirement already satisfied: unidecode>=1.0.0 in /home/laptopmindee/venv3.8/lib/python3.8/site-packages (from python-doctr) (1.1.1)\n",
      "Requirement already satisfied: pyclipper>=1.2.0 in /home/laptopmindee/venv3.8/lib/python3.8/site-packages (from python-doctr) (1.2.1)\n",
      "Requirement already satisfied: matplotlib>=3.1.0 in /home/laptopmindee/venv3.8/lib/python3.8/site-packages (from python-doctr) (3.4.2)\n",
      "Requirement already satisfied: kiwisolver>=1.0.1 in /home/laptopmindee/venv3.8/lib/python3.8/site-packages (from matplotlib>=3.1.0->python-doctr) (1.3.1)\n",
      "Requirement already satisfied: pyparsing>=2.2.1 in /home/laptopmindee/venv3.8/lib/python3.8/site-packages (from matplotlib>=3.1.0->python-doctr) (2.4.7)\n",
      "Requirement already satisfied: cycler>=0.10 in /home/laptopmindee/venv3.8/lib/python3.8/site-packages (from matplotlib>=3.1.0->python-doctr) (0.10.0)\n",
      "Requirement already satisfied: python-dateutil>=2.7 in /home/laptopmindee/venv3.8/lib/python3.8/site-packages (from matplotlib>=3.1.0->python-doctr) (2.8.1)\n",
      "Requirement already satisfied: six in /home/laptopmindee/venv3.8/lib/python3.8/site-packages (from cycler>=0.10->matplotlib>=3.1.0->python-doctr) (1.15.0)\n",
      "Requirement already satisfied: cairocffi>=0.9.0 in /home/laptopmindee/venv3.8/lib/python3.8/site-packages (from weasyprint>=52.2->python-doctr) (1.2.0)\n",
      "Requirement already satisfied: Pyphen>=0.9.1 in /home/laptopmindee/venv3.8/lib/python3.8/site-packages (from weasyprint>=52.2->python-doctr) (0.10.0)\n",
      "Requirement already satisfied: cssselect2>=0.1 in /home/laptopmindee/venv3.8/lib/python3.8/site-packages (from weasyprint>=52.2->python-doctr) (0.4.1)\n",
      "Requirement already satisfied: html5lib>=0.999999999 in /home/laptopmindee/venv3.8/lib/python3.8/site-packages (from weasyprint>=52.2->python-doctr) (1.1)\n",
      "Requirement already satisfied: tinycss2>=1.0.0 in /home/laptopmindee/venv3.8/lib/python3.8/site-packages (from weasyprint>=52.2->python-doctr) (1.1.0)\n",
      "Requirement already satisfied: cffi>=0.6 in /home/laptopmindee/venv3.8/lib/python3.8/site-packages (from weasyprint>=52.2->python-doctr) (1.14.5)\n",
      "Requirement already satisfied: CairoSVG>=2.4.0 in /home/laptopmindee/venv3.8/lib/python3.8/site-packages (from weasyprint>=52.2->python-doctr) (2.5.2)\n",
      "Requirement already satisfied: setuptools>=39.2.0 in /home/laptopmindee/venv3.8/lib/python3.8/site-packages (from weasyprint>=52.2->python-doctr) (49.2.1)\n",
      "Requirement already satisfied: defusedxml in /home/laptopmindee/venv3.8/lib/python3.8/site-packages (from CairoSVG>=2.4.0->weasyprint>=52.2->python-doctr) (0.7.1)\n",
      "Requirement already satisfied: pycparser in /home/laptopmindee/venv3.8/lib/python3.8/site-packages (from cffi>=0.6->weasyprint>=52.2->python-doctr) (2.20)\n",
      "Requirement already satisfied: webencodings in /home/laptopmindee/venv3.8/lib/python3.8/site-packages (from cssselect2>=0.1->weasyprint>=52.2->python-doctr) (0.5.1)\n"
     ]
    }
   ],
   "source": [
    "# Doctr installation\n",
    "! pip install python-doctr\n",
    "# To install from source instead of the last release, comment the command above and uncomment the following one.\n",
    "# ! pip install git+https://github.com/mindee/doctr.git"
   ]
  },
  {
   "cell_type": "markdown",
   "id": "asian-drain",
   "metadata": {},
   "source": [
    "# Quick Tour\n",
    "\n",
    "## Text detection\n",
    "\n",
    "### Load a pretrained text detection predictor"
   ]
  },
  {
   "cell_type": "code",
   "execution_count": 3,
   "id": "sunset-tampa",
   "metadata": {},
   "outputs": [],
   "source": [
    "from doctr.models import detection_predictor\n",
    "\n",
    "# Load predictor\n",
    "model = detection_predictor(pretrained=True)"
   ]
  },
  {
   "cell_type": "markdown",
   "id": "outer-muscle",
   "metadata": {},
   "source": [
    "### Load inputs as DocumentFile"
   ]
  },
  {
   "cell_type": "code",
   "execution_count": 10,
   "id": "random-cabin",
   "metadata": {},
   "outputs": [],
   "source": [
    "from doctr.documents import DocumentFile\n",
    "\n",
    "# Let's choose a webpage for instance\n",
    "webpage_doc = DocumentFile.from_url(\"https://mindee.com\").as_images()"
   ]
  },
  {
   "cell_type": "markdown",
   "id": "musical-welding",
   "metadata": {},
   "source": [
    "### Predict text areas"
   ]
  },
  {
   "cell_type": "code",
   "execution_count": 11,
   "id": "sensitive-virgin",
   "metadata": {},
   "outputs": [],
   "source": [
    "# Predict text boxes\n",
    "boxes = model(webpage_doc)\n"
   ]
  },
  {
   "cell_type": "markdown",
   "id": "express-publication",
   "metadata": {},
   "source": [
    "### Explore text boxes format"
   ]
  },
  {
   "cell_type": "code",
   "execution_count": 14,
   "id": "white-martial",
   "metadata": {},
   "outputs": [],
   "source": [
    "# boxes is a list of page boxes, one element each page of the webpage_doc\n",
    "assert len(boxes) == len(webpage_doc) == 15 # 15 pages in the webpage_doc\n"
   ]
  },
  {
   "cell_type": "code",
   "execution_count": 17,
   "id": "intelligent-halloween",
   "metadata": {},
   "outputs": [],
   "source": [
    "import numpy as np\n",
    "\n",
    "# Each page boxes is a tuple (array of boxes, angle), where the array of boxes has a shape (N, 5) and the angle\n",
    "# is a float giving the rotation of the page. N is the number of detected boxes on the page, each box is represented\n",
    "# by 5 floats between 0 and 1: (xmin, ymin, xmax, ymax, objectness)\n",
    "assert isinstance(boxes[0][0], np.ndarray)\n",
    "assert boxes[0][1] == 0.  # no angle for a webpage\n",
    "assert boxes[0][0].shape[1] == 5"
   ]
  },
  {
   "cell_type": "code",
   "execution_count": null,
   "id": "olympic-postcard",
   "metadata": {},
   "outputs": [],
   "source": []
  }
 ],
 "metadata": {
  "kernelspec": {
   "display_name": "Python 3",
   "language": "python",
   "name": "python3"
  },
  "language_info": {
   "codemirror_mode": {
    "name": "ipython",
    "version": 3
   },
   "file_extension": ".py",
   "mimetype": "text/x-python",
   "name": "python",
   "nbconvert_exporter": "python",
   "pygments_lexer": "ipython3",
   "version": "3.8.10"
  }
 },
 "nbformat": 4,
 "nbformat_minor": 5
}
